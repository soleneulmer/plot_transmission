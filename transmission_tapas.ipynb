{
 "cells": [
  {
   "cell_type": "code",
   "execution_count": 15,
   "metadata": {},
   "outputs": [],
   "source": [
    "# Test example Bokeh"
   ]
  },
  {
   "cell_type": "code",
   "execution_count": 16,
   "metadata": {
    "collapsed": true
   },
   "outputs": [],
   "source": [
    "import numpy as np\n",
    "import pandas as pd\n",
    "from bokeh.io import curdoc\n",
    "from bokeh.layouts import row, widgetbox\n",
    "from bokeh.models import ColumnDataSource, Select, HoverTool\n",
    "from bokeh.models.widgets import Slider, TextInput\n",
    "from bokeh.plotting import figure, output_file, show, ColumnDataSource"
   ]
  },
  {
   "cell_type": "code",
   "execution_count": 17,
   "metadata": {
    "collapsed": true
   },
   "outputs": [],
   "source": [
    "# Plot TAPAS transmission\n",
    "# from https://github.com/bokeh/bokeh/blob/master/examples/app/sliders.py\n",
    "# wl = wl[::-1]\n",
    "# file_tapas =\n",
    "names = {1: \"H2O\", 2:\"O3\", 3:\"O2\", 4:\"CO2\", 5:\"CH4\", 6:\"N2O\"}\n",
    "trans = {}\n",
    "for i in range(6):\n",
    "    file_t = \"tapas_00000%i.ipac\" %(i+1)\n",
    "    data = pd.read_csv(file_t, sep=\" \", names=['wl', 'molec'], usecols=[3,6], header=23)\n",
    "    trans[names[i+1]] = data.molec.values\n",
    "wl = data.wl.values\n",
    "# trans = H2O*O3*O2*CO2*CH4*N2O"
   ]
  },
  {
   "cell_type": "code",
   "execution_count": 18,
   "metadata": {},
   "outputs": [
    {
     "name": "stdout",
     "output_type": "stream",
     "text": [
      "[ 0.86184671  0.86119383  0.86052307 ...,  0.63399393  0.63399106\n",
      "  0.63398819]\n",
      "[ 2499.99866669  2499.99750002  2499.99633335 ...,   350.0035\n",
      "   350.00233333   350.00116667]\n",
      "H2O\n"
     ]
    }
   ],
   "source": [
    "print(trans['H2O'])\n",
    "print(wl)\n",
    "source = ColumnDataSource(data=dict(x=wl[0:2000], y=trans['H2O'][0:2000]))\n",
    "print(names[1])\n",
    "def get_data(molecule, wl, trans):\n",
    "    return ColumnDataSource(data=dict(x=wl[0:2000], y=trans[molecule][0:2000]))"
   ]
  },
  {
   "cell_type": "code",
   "execution_count": 19,
   "metadata": {},
   "outputs": [],
   "source": [
    "hover = HoverTool(tooltips=[(\"Wavelength\", \"$x\"),(\"Transmission\", \"$y\"),])"
   ]
  },
  {
   "cell_type": "code",
   "execution_count": 20,
   "metadata": {},
   "outputs": [],
   "source": [
    "p = figure(plot_width=1200, plot_height=800, tools=[hover, \"pan,wheel_zoom,box_zoom,reset,save,box_select\"],\n",
    "           title=\"Atmospheric transmission\")\n",
    "\n",
    "p.line('x', 'y', source=source, legend='H2O', line_width=3)\n",
    "\n",
    "show(p)"
   ]
  },
  {
   "cell_type": "code",
   "execution_count": 21,
   "metadata": {},
   "outputs": [],
   "source": [
    "# molec_select = Select(value=names.values, title='Molecules', options=sorted(names.keys()))"
   ]
  }
 ],
 "metadata": {
  "kernelspec": {
   "display_name": "Python 3",
   "language": "python",
   "name": "python3"
  },
  "language_info": {
   "codemirror_mode": {
    "name": "ipython",
    "version": 3
   },
   "file_extension": ".py",
   "mimetype": "text/x-python",
   "name": "python",
   "nbconvert_exporter": "python",
   "pygments_lexer": "ipython3",
   "version": "3.6.1"
  }
 },
 "nbformat": 4,
 "nbformat_minor": 2
}
